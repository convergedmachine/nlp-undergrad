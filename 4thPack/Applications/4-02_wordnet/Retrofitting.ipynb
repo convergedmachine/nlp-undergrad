{
 "cells": [
  {
   "cell_type": "markdown",
   "metadata": {},
   "source": [
    "This notebook explores the use of retrofitted word vectors. Retrofitting is a process that adjusts pre-trained word vectors (like GloVe) to better align with semantic lexicons, such as WordNet. This encourages words that are synonyms or in the same conceptual set (synset) to have more similar vector representations. The technique is based on the paper by [Faruqui et al. (2015)](https://github.com/mfaruqui/retrofitting)."
   ]
  },
  {
   "cell_type": "code",
   "execution_count": null,
   "metadata": {},
   "outputs": [],
   "source": [
    "# Import the necessary function 'glove2word2vec' to convert GloVe format vectors to word2vec format.\n",
    "from gensim.scripts.glove2word2vec import glove2word2vec\n",
    "# Import 'KeyedVectors' from gensim, which is the standard class for loading and working with pre-trained word embeddings.\n",
    "from gensim.models import Word2Vec, KeyedVectors"
   ]
  },
  {
   "cell_type": "markdown",
   "metadata": {},
   "source": [
    "### Step 1: Process the Original GloVe Vectors\n",
    "\n",
    "First, we need to convert the original GloVe vectors from their standard text format into a format that the `gensim` library can load efficiently. We'll use the `glove2word2vec` utility for this."
   ]
  },
  {
   "cell_type": "code",
   "execution_count": null,
   "metadata": {},
   "outputs": [],
   "source": [
    "# Define a string variable for the path to the original GloVe vector file.\n",
    "glove_file=\"../data/glove.42B.300d.50K.txt\"\n",
    "# Define a string variable for the path where the converted word2vec format file will be saved.\n",
    "original_file=\"../data/glove.42B.300d.50K.w2v.txt\"\n",
    "# Call the conversion function. It reads the GloVe file and writes the new word2vec format file.\n",
    "# The return value is not needed, so it's assigned to '_' by convention.\n",
    "_ = glove2word2vec(glove_file, original_file)"
   ]
  },
  {
   "cell_type": "markdown",
   "metadata": {},
   "source": [
    "Download vectors that have already been retrofit [here](https://drive.google.com/file/d/1sr0xEUzlLtjbrs0NY4-vek60SY7Gk9bQ/view?usp=sharing).  These vectors have been fit using the code of [Faruqui et al. 2015](https://github.com/mfaruqui/retrofitting):\n",
    "\n",
    "```sh\n",
    "python retrofit.py -i glove.42B.300d.50K.txt -l lexicons/wordnet-synonyms.txt -n 10 -o glove.42B.300d.50K.txt.retrofit\n",
    "```"
   ]
  },
  {
   "cell_type": "markdown",
   "metadata": {},
   "source": [
    "### Step 2: Process the Retrofitted GloVe Vectors\n",
    "\n",
    "Next, we perform the same conversion for the retrofitted vectors. These vectors have been adjusted using WordNet synonym data to bring related words closer together in the vector space."
   ]
  },
  {
   "cell_type": "code",
   "execution_count": null,
   "metadata": {},
   "outputs": [],
   "source": [
    "# Define the path to the input file containing the retrofitted GloVe vectors.\n",
    "glove_file=\"../data/glove.42B.300d.50K.txt.retrofit\"\n",
    "# Define the path for the output file for the retrofitted vectors in word2vec format.\n",
    "retrofit_file=\"../data/glove.42B.300d.50K.w2v.txt.retrofit\"\n",
    "# Perform the conversion from GloVe format to word2vec format for the retrofitted vectors.\n",
    "_ = glove2word2vec(glove_file, retrofit_file)"
   ]
  },
  {
   "cell_type": "markdown",
   "metadata": {},
   "source": [
    "### Step 3: Load the Vector Models\n",
    "\n",
    "With both sets of vectors converted, we can now load them into `gensim`'s `KeyedVectors` objects. This will allow us to easily query them for word similarities and other tasks."
   ]
  },
  {
   "cell_type": "code",
   "execution_count": null,
   "metadata": {},
   "outputs": [],
   "source": [
    "# Load the original (non-retrofitted) vectors from the converted file into a KeyedVectors object.\n",
    "# The 'binary=False' argument specifies that the file is in a text format.\n",
    "original = KeyedVectors.load_word2vec_format(original_file, binary=False)"
   ]
  },
  {
   "cell_type": "markdown",
   "metadata": {},
   "source": [
    "Now we load the retrofitted vectors in the same way."
   ]
  },
  {
   "cell_type": "code",
   "execution_count": null,
   "metadata": {},
   "outputs": [],
   "source": [
    "# Load the retrofitted vectors from the converted file.\n",
    "# This creates a second KeyedVectors object that we can compare with the original.\n",
    "retrofit = KeyedVectors.load_word2vec_format(retrofit_file, binary=False)"
   ]
  },
  {
   "cell_type": "markdown",
   "metadata": {},
   "source": [
    "### Step 4: Compare the Models\n",
    "\n",
    "Explore these two vector sets to see how the retrofitting process has encoded the synonym relationships from WordNet into the vector representations. We will do this by checking the nearest neighbors of a word in both models."
   ]
  },
  {
   "cell_type": "markdown",
   "metadata": {},
   "source": [
    "First, let's examine the most similar words to \"hate\" in the **original** GloVe model. These similarities are based purely on how words co-occur in the training corpus."
   ]
  },
  {
   "cell_type": "code",
   "execution_count": null,
   "metadata": {},
   "outputs": [],
   "source": [
    "# Use the .most_similar() method on the 'original' model to find the top 10 words closest to \"hate\".\n",
    "# This shows us the neighbors based on the original distributional semantics.\n",
    "original.most_similar(\"hate\", topn=10)"
   ]
  },
  {
   "cell_type": "markdown",
   "metadata": {},
   "source": [
    "Now, let's look at the most similar words to \"hate\" in the **retrofitted** model. We expect these results to be more semantically precise and include more direct synonyms, as the model was explicitly updated using WordNet's synonym lexicon."
   ]
  },
  {
   "cell_type": "code",
   "execution_count": null,
   "metadata": {},
   "outputs": [],
   "source": [
    "# Use the .most_similar() method on the 'retrofit' model to find the top 10 words closest to \"hate\".\n",
    "# Comparing these results to the previous cell highlights the effect of retrofitting.\n",
    "retrofit.most_similar(\"hate\", topn=10)"
   ]
  },
  {
   "cell_type": "code",
   "execution_count": null,
   "metadata": {},
   "outputs": [],
   "source": []
  }
 ],
 "metadata": {
  "kernelspec": {
   "display_name": "loc",
   "language": "python",
   "name": "loc"
  },
  "language_info": {
   "codemirror_mode": {
    "name": "ipython",
    "version": 3
   },
   "file_extension": ".py",
   "mimetype": "text/x-python",
   "name": "python",
   "nbconvert_exporter": "python",
   "pygments_lexer": "ipython3",
   "version": "3.10.18"
  }
 },
 "nbformat": 4,
 "nbformat_minor": 4
}
